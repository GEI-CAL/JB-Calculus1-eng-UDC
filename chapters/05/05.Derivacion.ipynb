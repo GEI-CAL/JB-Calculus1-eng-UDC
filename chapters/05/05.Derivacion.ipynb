{
 "cells": [
  {
   "cell_type": "markdown",
   "metadata": {},
   "source": [
    "# Derivación en **Python**\n",
    "\n",
    "Esta sección pretende ser un compendio (esperemos que claro y ordenado) de todo el `Python` que hemos ido usando en el Capítulo 3.\n",
    "\n",
    "Objetivos:\n",
    "\n",
    "* Cálculo de derivadas con `Sympy`.\n",
    "* Implementación en `Numpy` del método numérico de Newton-Raphson.\n",
    "* Derivadas sucesivas con `Sympy`.\n",
    "* Uso de `Python` en problemas de máximos y mínimos.\n",
    "* Cálculo, con `Sympy`, del polinomio de Taylor y del resto. "
   ]
  },
  {
   "cell_type": "markdown",
   "metadata": {},
   "source": [
    "## Derivación en `Sympy`\n",
    "\n",
    "La realizaremos con el comando `sp.diff`, como mostramos en el siguiente ejemplo:"
   ]
  },
  {
   "cell_type": "code",
   "execution_count": 1,
   "metadata": {},
   "outputs": [
    {
     "name": "stdout",
     "output_type": "stream",
     "text": [
      "Para la función:  exp(x)*cos(x)\n",
      "La derivada primera es:  -exp(x)*sin(x) + exp(x)*cos(x)\n"
     ]
    }
   ],
   "source": [
    "import sympy as sp\n",
    "x=sp.symbols('x')\n",
    "f_exp=sp.exp(x)*sp.cos(x)\n",
    "d1f_exp=sp.diff(f_exp,x)\n",
    "print('Para la función: ',f_exp)\n",
    "print('La derivada primera es: ',d1f_exp)"
   ]
  },
  {
   "cell_type": "markdown",
   "metadata": {},
   "source": [
    "## Implementación en `Numpy` del método numérico de Newton-Raphson\n",
    "\n",
    "Mostramos a continuación una implementación directa, mediante un bucle, de este método:"
   ]
  },
  {
   "cell_type": "code",
   "execution_count": 2,
   "metadata": {},
   "outputs": [
    {
     "name": "stdout",
     "output_type": "stream",
     "text": [
      "Número de iteraciones realizadas:  7\n",
      "Aproximación de la raíz:  0.7709169970592481\n"
     ]
    }
   ],
   "source": [
    "import numpy as np\n",
    "import sympy as sp\n",
    "\n",
    "x = sp.symbols('x', real=True) # define la variable simbólica x\n",
    "\n",
    "f_expr = x**3+2*x-2\n",
    "f_der_expr = sp.diff(f_expr,x)\n",
    "\n",
    "f = sp.Lambda(x,f_expr)\n",
    "f_der = sp.Lambda(x,f_der_expr)\n",
    "\n",
    "N_max = 10\n",
    "tol = 1.e-9\n",
    "\n",
    "x_aprox = np.zeros(N_max)\n",
    "x_aprox[0] = 2\n",
    "\n",
    "for k in range(1,N_max):\n",
    "    if f_der(x_aprox[k-1]) == 0: break\n",
    "\n",
    "    x_aprox[k] = x_aprox[k-1] - f(x_aprox[k-1])/f_der(x_aprox[k-1])\n",
    "\n",
    "    if ( (k > 0) and (np.abs(x_aprox[k]-x_aprox[k-1]) / np.abs(x_aprox[k]) < tol) ): break\n",
    "\n",
    "print('Número de iteraciones realizadas: ', k) \n",
    "print('Aproximación de la raíz: ', x_aprox[k])"
   ]
  },
  {
   "cell_type": "markdown",
   "metadata": {},
   "source": [
    "En la Sección {ref}`sec_NewtonRaphson` puedes ver el gráfico de este caso con `Matplotlib`."
   ]
  },
  {
   "cell_type": "markdown",
   "metadata": {},
   "source": [
    "## Derivadas sucesivas con `Sympy`\n",
    "\n",
    "Para calcular derivadas sucesivas en `Sympy` tenemos que añadir un parámetro en `sp.diff` que indique el número de veces que queremos derivar:"
   ]
  },
  {
   "cell_type": "code",
   "execution_count": 3,
   "metadata": {},
   "outputs": [
    {
     "name": "stdout",
     "output_type": "stream",
     "text": [
      "Expresión que queremos derivar:  x**2 + sin(x)\n",
      "Primera derivada:  2*x + cos(x)\n",
      "Segunda derivada:  2 - sin(x)\n",
      "Tercera derivada:  -cos(x)\n"
     ]
    }
   ],
   "source": [
    "import sympy as sp\n",
    "\n",
    "x = sp.symbols('x', real=True)\n",
    "f_exp = sp.sin(x) + x**2\n",
    "print('Expresión que queremos derivar: ',f_exp)\n",
    "print('Primera derivada: ',sp.diff(f_exp,x))\n",
    "print('Segunda derivada: ',sp.diff(f_exp,x,2))\n",
    "print('Tercera derivada: ',sp.diff(f_exp,x,3))\n",
    "# Nota: también se puede usar la siguiente escritura:\n",
    "# print(f_exp.diff(x,3))"
   ]
  },
  {
   "cell_type": "markdown",
   "metadata": {},
   "source": [
    "## Uso de `Python` en problemas de máximos y mínimos\n",
    "\n",
    "Dado un canal de sección trapezoidal de lado 2, calcular el ángulo $\\alpha$ (ver dibujo) que maximiza el área de la sección del canal.\n",
    "\n",
    "<img src=\"../../images/cap3-canal.svg\" width=\"300\"/>\n",
    "\n",
    "1. A mano. Obtener la función que proporciona el área del canal en función del ángulo $ \\alpha $\n",
    "2. Simbólicamente: con **Sympy**.\n",
    "3. Numéricamente mediante el método de Newton con error menor que $ 10^{-4} $."
   ]
  },
  {
   "cell_type": "code",
   "execution_count": 4,
   "metadata": {},
   "outputs": [
    {
     "name": "stdout",
     "output_type": "stream",
     "text": [
      "La sección máxima se alcanza con ángulo:  1.0471975511965979\n"
     ]
    }
   ],
   "source": [
    "import sympy as sp\n",
    "# 2. Resolvemos el problema utilizando Sympy\n",
    "x,xn=sp.symbols('x,xn')\n",
    "# Funcion que describe el area de la seccion en funcion del angulo\n",
    "f=4*sp.sin(x)*(1+sp.cos(x))\n",
    "d1f=sp.diff(f,x)\n",
    "d1fn=sp.lambdify(x,d1f)\n",
    "alphamax=sp.solve(d1f)\n",
    "print('La sección máxima se alcanza con ángulo: ',float(alphamax[1]))\n"
   ]
  },
  {
   "cell_type": "code",
   "execution_count": 5,
   "metadata": {},
   "outputs": [
    {
     "name": "stdout",
     "output_type": "stream",
     "text": [
      "Numero de iteraciones realizadas:  4\n",
      "Aproximación del ángulo para la sección máxima con NR:  1.0471975511965559\n"
     ]
    }
   ],
   "source": [
    "# 3. Aproximamos el máximo con el método de Newton\n",
    "maxit=100\n",
    "eps=1e-4\n",
    "d2f=sp.diff(d1f,x)\n",
    "d2fn=sp.lambdify(x,d2f)\n",
    "xn=np.pi/2\n",
    "for i in range(0,maxit):\n",
    "    res=d1fn(xn)/d2fn(xn)\n",
    "    xn=xn-res\n",
    "    if (np.abs(res)<eps):\n",
    "        break\n",
    "print('Numero de iteraciones realizadas: ',i)\n",
    "print('Aproximación del ángulo para la sección máxima con NR: ',xn)"
   ]
  },
  {
   "cell_type": "markdown",
   "metadata": {},
   "source": [
    "## Cálculo, con `Sympy`, del polinomio de Taylor y del resto. \n",
    "\n",
    "La siguiente función calcula, de forma simbólica, el polinomio de Taylor de una función dada. \n",
    "\n",
    "* Argumentos de entrada: \n",
    "    * expresión f, \n",
    "    * punto x0, que será el centro de Taylor, \n",
    "    * orden del polinomio, n.\n",
    "* Salida:\n",
    "    * expresión del polinomio de Taylor, p,\n",
    "    * epresión del resto de Taylor, r."
   ]
  },
  {
   "cell_type": "code",
   "execution_count": 6,
   "metadata": {},
   "outputs": [],
   "source": [
    "import sympy as sp\n",
    "\n",
    "x,t=sp.symbols('x,t')\n",
    "\n",
    "# p: polinomio de Taylor\n",
    "# R: resto en valor absoluto\n",
    "def taylor(f,x0,n):\n",
    "    p=0\n",
    "    for i in range(n+1):\n",
    "        p+=sp.diff(f,x,i).subs(x,x0)/sp.factorial(i)*(x-x0)**i\n",
    "    R=sp.diff(f,x,n+1).subs(x,t)/sp.factorial(n+1)*(x-x0)**(n+1)\n",
    "    return p,R\n"
   ]
  },
  {
   "cell_type": "markdown",
   "metadata": {},
   "source": [
    "En la Sección {ref}`sec_Taylor` puedes ver cómo se aplica esta función a un problema concreto."
   ]
  }
 ],
 "metadata": {
  "kernelspec": {
   "display_name": "Python 3.10.8 64-bit (microsoft store)",
   "language": "python",
   "name": "python3"
  },
  "language_info": {
   "codemirror_mode": {
    "name": "ipython",
    "version": 3
   },
   "file_extension": ".py",
   "mimetype": "text/x-python",
   "name": "python",
   "nbconvert_exporter": "python",
   "pygments_lexer": "ipython3",
   "version": "3.11.5"
  },
  "vscode": {
   "interpreter": {
    "hash": "f2c0f1c90395c109e1b87b1f4d6d2ea9e1b09c8587e65b0565fcfbe20df05a54"
   }
  }
 },
 "nbformat": 4,
 "nbformat_minor": 2
}
