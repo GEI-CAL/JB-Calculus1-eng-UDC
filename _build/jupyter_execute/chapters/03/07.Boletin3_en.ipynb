{
 "cells": [
  {
   "cell_type": "markdown",
   "id": "24d611d7",
   "metadata": {},
   "source": [
    "# Bulletin III: Differential calculus of functions of a variable\n",
    "\n",
    "## Basic exercises\n",
    "\n",
    "**<FONT SIZE=4>[1]</font>** Sea $f$ la función dada por $f(x)=5x^2.$\n",
    "\n",
    "1. Use the definition of the derivative to show that $f'(x)=10x.$\n",
    "2. Calculate the equation of the tangent line to the graph of $f$ in $\\displaystyle{x=\\frac12}.$"
   ]
  },
  {
   "cell_type": "markdown",
   "id": "5e670202",
   "metadata": {},
   "source": [
    "**<FONT SIZE=4>[2]</font>**\n",
    "Sea $f : \\mathbb{R} \\longrightarrow \\mathbb{R}$ dada por:\n",
    "\n",
    "$$\n",
    "f(x) =\n",
    "\\begin{cases}\n",
    "2x - 1             & \\quad \\text{si } x \\leq -1 \\\\\n",
    "( x+1)^3 + 2x & \\quad \\text{si } x > -1\n",
    "\\end{cases}\n",
    "$$\n",
    "\n",
    "Find out if it is differentiable at $x = -1$."
   ]
  },
  {
   "cell_type": "markdown",
   "id": "f4d70cd1",
   "metadata": {},
   "source": [
    "**<FONT SIZE=4>[3]</font>**\n",
    "Let $f$ be the function given by\n",
    "\n",
    "$$\n",
    "f(x)=\n",
    "\\begin{cases}\n",
    "\\displaystyle{x+x^2 \\sin\\left(\\frac 1x\\right)} & \\text{  si  } x\\neq 0 \\\\\n",
    "0 & \\text{  si  } x = 0\n",
    "\\end{cases}\n",
    "$$\n",
    "\n",
    "1. Obtain the expression of $f'(x)$ for $x\\neq 0$.\n",
    "2. Calculate $f' (0)$ using the definition of derivative; that is, as a limit of the incremental quotient.\n",
    "3. Check that the value obtained in section [3.2] does not coincide with the result of replacing $x$ with zero in the expression found in [3.1]. Reason why these different results occur."
   ]
  },
  {
   "cell_type": "markdown",
   "id": "cf81e06b",
   "metadata": {},
   "source": [
    "**<FONT SIZE=4>[4]</font>**\n",
    "Consider the function $f$ given by:\n",
    "\n",
    "$$\n",
    "f(x) =\n",
    "\\begin{cases}\n",
    "\\displaystyle{\\frac{1-e^{-x}}{x} }            & \\quad \\text{si } x \\neq 0 \\\\\n",
    "1 & \\quad \\text{si } x = 0\n",
    "\\end{cases}\n",
    "$$\n",
    "\n",
    "1. Calculate $f'(x)$ at all points where it exists.\n",
    "2. Calcula $\\displaystyle{\\lim _{x\\rightarrow -\\infty}{f(x)}}$, $\\displaystyle{\\lim _{x\\rightarrow \\infty}{f(x)}}$ y el conjunto $\\textrm{Im}(f)$.\n",
    "\n"
   ]
  },
  {
   "cell_type": "markdown",
   "id": "7b854364",
   "metadata": {},
   "source": [
    "**<FONT SIZE=4>[5]</font>**\n",
    "Write the Newton-Raphson method to approximate $\\sqrt[3]{2}$ starting from $x_0 = 1$. Calculate the first two iterants.\n"
   ]
  },
  {
   "cell_type": "markdown",
   "id": "6476374d",
   "metadata": {},
   "source": [
    "**<FONT SIZE=4>[6]</font>**\n",
    "To approximate the value of the solution of the equation $x^3+2x-2=0,$ in the interval $[-2,\\, 2],$ we are going to use the Newton-Raphson method.\n",
    "\n",
    "1. State the Newton-Raphson algorithm for this case.\n",
    "2. Calculate the first two iterations using that algorithm. To do this, use the value $x_0=0$ as an initial approximation.\n",
    "\n"
   ]
  },
  {
   "cell_type": "markdown",
   "id": "b94c16a2",
   "metadata": {},
   "source": [
    "**<FONT SIZE=4>[7]</font>**\n",
    "Let $f(x) = \\displaystyle \\arctan \\left( \\frac{\\sin (x)}{1 + \\cos (x)} \\right )$. Calculate the tangent line to the graph of $f$ at $x = 0$.\n",
    "\n"
   ]
  },
  {
   "cell_type": "markdown",
   "id": "18ce85ec",
   "metadata": {},
   "source": [
    "**<FONT SIZE=4>[8]</font>**\n",
    "Let the function $f$ be given by $f(x) = (4x+1)^{(2+ \\sin (x^2))}$. Calculate its derivative at any point.\n",
    "\n"
   ]
  },
  {
   "cell_type": "markdown",
   "id": "95063bfa",
   "metadata": {},
   "source": [
    "**<FONT SIZE=4>[9]</font>**\n",
    "If we consider the function $f:\\mathbb{R}\\rightarrow \\mathbb{R}$ given by\n",
    "\n",
    "$$\n",
    "f(x)=\\displaystyle{\\left\\{ \\begin{array}{ccl}\n",
    "judisplaystyle{yufrac{yusin^2(zx)}{zx^2}} & si & hyunea 0 yuu\n",
    "\\\\\n",
    "\\displaystyle{\\frac13 }& si & x=0\n",
    "\\end{array}\n",
    "\\right. },\n",
    "$$\n",
    "choose the correct option:\n",
    "\n",
    "1. $\\displaystyle\\lim _{x\\rightarrow 0}f(x)=\\frac{1}{3} $.\n",
    "2. Cannot calculate $\\displaystyle{\\lim _{x\\rightarrow 0}{f(x)}}$.\n",
    "3. $\\displaystyle{\\lim _{x\\rightarrow 0}{f(x)}}=3$.\n",
    "4. It is continuous in $\\mathbb{R}$"
   ]
  },
  {
   "cell_type": "markdown",
   "id": "82fbfc12",
   "metadata": {},
   "source": [
    "**<FONT SIZE=4>[10]</font>**\n",
    "Calculate the values ​​of $a$ and $b$ so that\n",
    "\n",
    "$$\n",
    "\\displaystyle{\\lim_{x\\rightarrow 0}\\frac{ax^2+bx+1-e^{2x}}{\\sin(x^2)}=1}\n",
    "$$\n",
    "\n"
   ]
  },
  {
   "cell_type": "markdown",
   "id": "bab48fc0",
   "metadata": {},
   "source": [
    "**<FONT SIZE=4>[11]</font>**\n",
    "Let the function $f$ be given by $\\displaystyle f(x) = \\frac{1}{2} x |x|$. What is the class of $f$?\n",
    "\n"
   ]
  },
  {
   "cell_type": "markdown",
   "id": "489cf7ff",
   "metadata": {},
   "source": [
    "**<FONT SIZE=4>[12]</font>** We consider the function $f$ given by\n",
    "\n",
    "$$\n",
    "f(x) =\n",
    "\\begin{cases}\n",
    "\\sin (x) \\, \\qquad \\text{ si } x \\in (-\\infty,0) \\\\\n",
    "\\arctan (x) \\,\\qquad \\text{ si } x \\in [0,1] \\\\\n",
    "\\pi x^3 / 4 \\, \\qquad \\text{ si } x \\in (1,+\\infty)\n",
    "\\end{cases}\n",
    "$$\n",
    "1. Sketch the graphical representation of $f$.\n",
    "2. Determine the class of $f$ in $\\mathbb{R}$.\n",
    "3. Calculate, if possible, the tangent line to $f$ at the point $x_0 = 0$.\n",
    "4. Determine a set of real numbers in which $f$ is of class infinite.\n",
    "\n"
   ]
  },
  {
   "cell_type": "markdown",
   "id": "5efc995e",
   "metadata": {},
   "source": [
    "**<FONT SIZE=4>[13]</font>**\n",
    "Let $f$ be the function given by\n",
    "\n",
    "$$\n",
    "f(x) =\n",
    "\\begin{cases}\n",
    "\\sqrt{x} + 1    & \\quad  \\text{si } x \\in (0,1) \\\\\n",
    "\\alpha x^2 + \\beta x + 1   & \\quad  \\text{si } x \\in [1,2)\n",
    "\\end{cases}\n",
    "$$\n",
    "\n",
    "1. Determine $\\alpha$ and $\\beta$ so that $f$ is differentiable in $(0,2)$.\n",
    "2. What conditions must $\\alpha$ and $\\beta$ satisfy so that $f$ has a relative minimum at the point $x=1$?\n",
    "\n"
   ]
  },
  {
   "cell_type": "markdown",
   "id": "e7710bb2",
   "metadata": {},
   "source": [
    "**<FONT SIZE=4>[14]</font>**\n",
    "Calculates the relative and absolute extremes if they exist, of the function defined in the\n",
    "intervalo $\\left [ -\\frac{1}{2} , \\frac{3}{2} \\right ]$ por $f(x) = x^2 - 2|x| + 2$.\n",
    "\n"
   ]
  },
  {
   "cell_type": "markdown",
   "id": "d3f6b202",
   "metadata": {},
   "source": [
    "**<FONT SIZE=4>[15]</font>**\n",
    "Consider the function $f:\\mathbb{R} \\rightarrow \\mathbb{R}$ given by $\\displaystyle{f(x)=\\frac{|x|}{e^{x-1}}}$.\n",
    "\n",
    "1. Study the continuity and differentiability of the function.\n",
    "2. Sketch the graph of $f$. To do this, it calculates their relative extremes, inflection points and asymptotes. Also determine its interval(s) of concavity and/or convexity.\n",
    "3. Determine the absolute extremes of $f$.\n",
    "\n"
   ]
  },
  {
   "cell_type": "markdown",
   "id": "b0ab9a03",
   "metadata": {},
   "source": [
    "**<FONT SIZE=4>[16]</font>**\n",
    "Show that the equation $x^4-4\\,x^3-1=0$ has a single root in the interval $[4,5]$.\n",
    "Pose the Newton-Raphson method to solve the equation from the previous section. Starting from $x_0=4$, obtain the approximation $x_1$ by hand and the approximation $x_7$ using `Python`.\n"
   ]
  },
  {
   "cell_type": "markdown",
   "id": "a1496b6f",
   "metadata": {},
   "source": [
    "**<FONT SIZE=4>[17]</font>**\n",
    "On what interval is the function $f$ given by $f(x)=x^3e^x$ increasing? Is it concave or convex in that interval? Sketch your graph.\n"
   ]
  },
  {
   "cell_type": "markdown",
   "id": "80e02f65",
   "metadata": {},
   "source": [
    "**<FONT SIZE=4>[18]</font>**\n",
    "Find the condition that $\\lambda$ must satisfy for the polynomial $x^4 + x^3 + \\lambda x^2$ to be concave on some interval. Determine that interval based on $\\lambda$."
   ]
  },
  {
   "cell_type": "markdown",
   "id": "afa828f3",
   "metadata": {},
   "source": [
    "**<FONT SIZE=4>[19]</font>**\n",
    "Find a cubic polynomial without local extrema but with an inflection point and a horizontal tangent at $P=(1,\\, 20)$.\n"
   ]
  },
  {
   "cell_type": "markdown",
   "id": "a07dfe54",
   "metadata": {},
   "source": [
    "**<FONT SIZE=4>[20]</font>**\n",
    "Sketch the graph of a function whose slope is always positive and increasing. Do you know of any elementary function that is an example of this situation? <br> Sketch the graph of a function whose slope is always positive and decreasing. Do you know of any elementary function that is an example of this situation?\n"
   ]
  },
  {
   "cell_type": "markdown",
   "id": "9c2664ea",
   "metadata": {},
   "source": [
    "**<FONT SIZE=4>[21]</font>**\n",
    "A rectangle whose base is on the abscissa axis has its two upper vertices in the parabola $y = 12 - x^2$. What is the largest area that this rectangle can have? Indicate its dimensions.\n",
    "\n"
   ]
  },
  {
   "cell_type": "markdown",
   "id": "fbcae340",
   "metadata": {},
   "source": [
    "**<FONT SIZE=4>[22]</font>**\n",
    "Knowing that $p(x)=5+(x+1)^2+3(x+1)^3$ is the third-order Taylor polynomial centered at $x_0=-1$ of a function $f,$ calculate $f(-1),$ $f^\\prime (-1)$ and $f^{\\prime \\prime}(-1).$ Justify your answer.\n"
   ]
  },
  {
   "cell_type": "markdown",
   "id": "80dcadac",
   "metadata": {},
   "source": [
    "**<FONT SIZE=4>[23]</font>**\n",
    "We consider the function $f$ defined by $f(x)=\\ln(1+x)$.\n",
    "\n",
    "1. Calculate the McLaurin polynomial (i.e., the Taylor polynomial with $x_0=0$) of order two relative to $f$.\n",
    "2. Use this polynomial to approximate the value of $\\ln(1.1)$, limiting the error made.\n"
   ]
  },
  {
   "cell_type": "markdown",
   "id": "3363ce53",
   "metadata": {},
   "source": [
    "**<FONT SIZE=4>[24]</font>**\n",
    "Construct the first-order Taylor polynomial, $p$, for the function $g(x) = \\sin (x)$, centered at the point $x_0 = \\pi/2$.\n",
    "\n",
    "Now consider the function $f$ defined as follows:\n",
    "\n",
    "$$\n",
    "f(x) =\n",
    "\\begin{cases} \\sin (x) \\quad  & \\quad \\quad \\text{si } x \\leq \\pi/2 \\\\\n",
    "p(x) \\quad    & \\quad \\quad \\text{si } x > \\pi/2\n",
    "\\end{cases}\n",
    "$$\n",
    "$p$ being the polynomial constructed in the previous section. What is the class of $f$ in $\\mathbb{R}$?\n"
   ]
  },
  {
   "cell_type": "markdown",
   "id": "756e074e",
   "metadata": {},
   "source": [
    "**<FONT SIZE=4>[25]</font>**\n",
    "Determine the Taylor polynomial of order two of the function $f(x)= \\arcsin(x)$ relative to the point $x_{0}=0$. <br> Use the previous polynomial to obtain, approximately, the angle whose sine is $\\frac{1}{10}$.\n"
   ]
  },
  {
   "cell_type": "markdown",
   "id": "77b205f9",
   "metadata": {},
   "source": [
    "**<FONT SIZE=4>[26]</font>**\n",
    "Let the function given by\n",
    "\n",
    "$$\n",
    "\\begin{array}{cccl}\n",
    "f: & \\mathcal{D}om(f) \\subset \\mathbb{R} & \\longrightarrow & \\mathbb{R} \\\\\n",
    "&        x                    & \\rightsquigarrow & f(x) = \\dfrac{x^2}{e^x}\n",
    "\\end{array}\n",
    "$$\n",
    "\n",
    "1. Calculate the domain of $f.$\n",
    "2. Calculate the absolute extremes of $f$ in the interval $[0,10]$, previously justifying its existence.\n",
    "3. Find the absolute extrema of $f$ in its domain."
   ]
  },
  {
   "cell_type": "markdown",
   "id": "7ec56b59",
   "metadata": {},
   "source": []
  },
  {
   "cell_type": "markdown",
   "id": "2dcd4299",
   "metadata": {},
   "source": [
    "## Complementary exercises\n",
    "\n",
    "**<font SIZE=4>[1 C]</font>**\n",
    "If the tangent line to the graph of the function $y = f(x)$ at the point $(4,3)$\n",
    "passes through the point $(0,2)$, calculates the value of the function $f$ and its derivative at the point whose\n",
    "abscissa is $x = 4$.\n",
    "\n",
    "\n"
   ]
  },
  {
   "cell_type": "markdown",
   "id": "af7595b4",
   "metadata": {},
   "source": [
    "**<font SIZE=4>[2 C]</font>**\n",
    "Approximate the solution of $x^3 - x - 1 = 0$ in $[1.3,\\, 1.4]$ using the Newton-Raphson method, starting from $x_0 = 1$ and performing three iterations.\n",
    "\n"
   ]
  },
  {
   "cell_type": "markdown",
   "id": "7dbb3db9",
   "metadata": {},
   "source": [
    "**<font SIZE=4>[3 C]</font>**\n",
    "Find the numbers $a$ and $b$ such that $\\,\\,\\displaystyle{\\lim _{x\\rightarrow 0}{\\frac{\\sqrt{ax+b}-2}{x}}=1}. $\n",
    "\n"
   ]
  },
  {
   "cell_type": "markdown",
   "id": "a0a16bd8",
   "metadata": {},
   "source": [
    "**<font SIZE=4>[4 C]</font>**\n",
    "Calculate the limit:\n",
    "\n",
    "$$\n",
    "\\displaystyle{\\lim_{x\\rightarrow 0} \\dfrac{(1+x)^{\\frac{1}{x}} - e}{x}.}\n",
    "$$\n",
    "\n"
   ]
  },
  {
   "cell_type": "markdown",
   "id": "3b7b3510",
   "metadata": {},
   "source": [
    "**<font SIZE=4>[5 C]</font>**\n",
    "We consider the function $f: \\mathbb{R} \\longrightarrow \\mathbb{R}$ given by:\n",
    "\n",
    "$$\n",
    "f(x)=\n",
    "\\begin{cases}\n",
    "\\displaystyle{\\dfrac{1-\\cos (x)}{x^2}} & \\text{  si  } x\\neq 0 \\\\\n",
    "\\lambda  & \\text{  si  } x = 0\n",
    "\\end{cases}\n",
    "$$\n",
    "\n",
    "1. Calculate the value of $\\lambda$ for which $f$ is differentiable at $x=0$.\n",
    "2. Calculate $f^{\\prime \\prime}(0)$ for the value of $\\lambda$ found in the previous section.\n",
    "\n"
   ]
  },
  {
   "cell_type": "markdown",
   "id": "40061c66",
   "metadata": {},
   "source": [
    "**<font SIZE=4>[6 C]</font>**\n",
    "Let $f:\\mathbb{R}\\to \\mathbb{R}$ defined as $f(x) =\n",
    "\\begin{cases}\n",
    "\\displaystyle 1 - \\frac{x^2}{2} & \\text{ si } x < 0 \\\\\n",
    "\\cos (x) & \\text{ si } x \\geq 0\n",
    "\\end{cases}\n",
    "$. <br> How many times is $f$ differentiable at $x_{0}=0$?\n",
    "\n"
   ]
  },
  {
   "cell_type": "markdown",
   "id": "4101c6ee",
   "metadata": {},
   "source": [
    "**<font SIZE=4>[7 C]</font>**\n",
    "Check that the function $F$, given by $F(x) = \\dfrac{1}{4} x^2 - \\ln x$, has a relative minimum, $x_{\\min}$, in the interval $ (1.3)$.\n",
    "Use the dichotomy algorithm, starting from $a = 1$ and $b = 3$, to approximate $x_{\\min}$ with an error less than $\\frac{1}{7}$.\n",
    "\n"
   ]
  },
  {
   "cell_type": "markdown",
   "id": "bcb596eb",
   "metadata": {},
   "source": [
    "**<font SIZE=4>[8 C]</font>**\n",
    "We consider the equation \\, $x e^{-x} = e^{-3}$.\n",
    "\n",
    "1. Check that you have exactly two solutions in $\\mathbb{R}$.\n",
    "2. Establish the Newton-Raphson method starting from a point in the interval $[2,5]$. Calculate $x_2$ from $x_0 = 2$.\n",
    "\n"
   ]
  },
  {
   "cell_type": "markdown",
   "id": "5a235c0e",
   "metadata": {},
   "source": [
    "**<font SIZE=4>[9 C]</font>**\n",
    "We wish to construct an arc that describes the curve given by $f(x) = \\sqrt{1-x^2}$. To facilitate construction, it is proposed to approximate said function by a second-order Taylor polynomial centered on $a = 0$. Calculate said polynomial and approximate $f(1)$.\n",
    "\n"
   ]
  },
  {
   "cell_type": "markdown",
   "id": "0e3fc386",
   "metadata": {},
   "source": [
    "**<font SIZE=4>[10 C]</font>**\n",
    "During coughing, the diameter of the trachea decreases. The velocity $v$ of the air in the trachea during cough is related to the radius, $r,$ by the equation:\n",
    "\n",
    "$$\n",
    "v = Ar^2 (r_0-r) \\quad , \\qquad A > 0\n",
    "$$\n",
    "where $r_0$ is the radius in the relaxed state.\n",
    "\n",
    "1. Find the radius of the trachea when the speed is maximum, as well as this speed.\n",
    "2. Justifies the existence of a minimum. calculate it\n",
    "\n"
   ]
  },
  {
   "cell_type": "markdown",
   "id": "781a9d48",
   "metadata": {},
   "source": [
    "**<font SIZE=4>[11 C]</font>**\n",
    "Find the radius and height of a cylindrical soda can.\n",
    "$33$ cm$^3$ that minimizes the amount of material used for its construction (assume that the thickness of the material used is uniform throughout the can and negligible).\n",
    "\n"
   ]
  },
  {
   "cell_type": "markdown",
   "id": "07173c5e",
   "metadata": {},
   "source": [
    "**<font SIZE=4>[12 C]</font>**\n",
    "Let the real function $f$ be given by:\n",
    "\n",
    "$$\n",
    "f(x) =\n",
    "\\begin{cases} \\frac{\\sin( x)}{x} - 1 \\quad and \\quad \\quad \\text{si } x < 0 \\\\ & \\\\\n",
    "x^3 e^{-x^2} \\quad           & \\quad \\quad \\text{si } x \\geq 0 \\, .\n",
    "\\end{cases}\n",
    "$$\n",
    "\n",
    "1. Study the differentiability of $f$ in $\\mathbb{R}$.\n",
    "2. Calculate the second-order Taylor polynomial of the function $f$ in the neighborhood of $x_0 = 1$.\n",
    "3. Reasonably determine the absolute extremes of $f$ in $[0,+\\infty)$.\n"
   ]
  },
  {
   "cell_type": "markdown",
   "id": "4e050c5b",
   "metadata": {},
   "source": [
    "**<font SIZE=4>[13 C]</font>**\n",
    "Let the function $f$ be given by:\n",
    "\n",
    "$$\n",
    "f(x) =\n",
    "\\begin{cases} \\dfrac{\\sin (x)}{x} \\, & \\quad \\quad \\text{si } x < 0 \\\\\n",
    "2 - \\cos(x) \\,        & \\quad \\quad \\text{si } x \\geq 0 \\, .\n",
    "\\end{cases}\n",
    "$$\n",
    "\n",
    "1. Study the continuity of $f$ in $\\mathbb{R}$.\n",
    "2. Determine, if $f'(0)$ exists. If so, reason whether $f$ is of class one in $\\mathbb{R}$.\n",
    "3. Calculate the second degree Taylor polynomial of $f$ in $x = -\\pi$.\n"
   ]
  },
  {
   "cell_type": "markdown",
   "id": "f1506c69",
   "metadata": {},
   "source": [
    "**<font SIZE=4>[14 C]</font>**\n",
    "We call $f(x) = \\sqrt{x+1}$.\n",
    "\n",
    "1. Find the fourth-order Taylor polynomial of $f$ at $x = 0$.\n",
    "2. Approximate $\\sqrt{1.02}$ with the Taylor polynomial of the second degree and limit the error made."
   ]
  },
  {
   "cell_type": "markdown",
   "id": "f02eb9b8",
   "metadata": {},
   "source": [
    "**<font SIZE=4>[15 C]</font>**\n",
    "Obtain the McLaurin polynomial (Taylor, with $x_{0}=0$) of order less than or equal to $n$ relative to $f(x) = (1-x)^{\\alpha}$, with $\\ alpha \\in \\mathbb{R}$.\n",
    "\n"
   ]
  },
  {
   "cell_type": "markdown",
   "id": "b1cc41a7",
   "metadata": {},
   "source": [
    "**<font SIZE=4>[16 C]</font>**\n",
    "Construct the Taylor polynomial of degree less than or equal to $3$ for the function $f(x)=x^2 - 2x + 1$ in a neighborhood of the point $x_{0} = 1$.\n"
   ]
  },
  {
   "cell_type": "markdown",
   "id": "74c9227d",
   "metadata": {},
   "source": [
    "**<font SIZE=4>[17 C]</font>**\n",
    "Determine the absolute extrema of the function $f(x)=|16-x^2|$ in the interval $[-5,8]$.\n"
   ]
  },
  {
   "cell_type": "markdown",
   "id": "455bcd81",
   "metadata": {},
   "source": [
    "**<font SIZE=4>[18 C]</font>**\n",
    "We want to approximate a root of the equation $x^3 -x^2 + 2 = 0$.\n",
    "\n",
    "1. Justify the existence of roots of the function $f$ given by $f(x)=x^3 -x^2 + 2$ in the interval $[-2,3]$.\n",
    "2. Starting from $x_0=2$, calculate, using Newton's algorithm, $x_1$. Use two correct decimal places in your calculations."
   ]
  }
 ],
 "metadata": {
  "kernelspec": {
   "display_name": "Python 3.10.7 64-bit (microsoft store)",
   "language": "python",
   "name": "python3"
  },
  "language_info": {
   "codemirror_mode": {
    "name": "ipython",
    "version": 3
   },
   "file_extension": ".py",
   "mimetype": "text/x-python",
   "name": "python",
   "nbconvert_exporter": "python",
   "pygments_lexer": "ipython3",
   "version": "3.10.8"
  },
  "vscode": {
   "interpreter": {
    "hash": "f2c0f1c90395c109e1b87b1f4d6d2ea9e1b09c8587e65b0565fcfbe20df05a54"
   }
  }
 },
 "nbformat": 4,
 "nbformat_minor": 5
}