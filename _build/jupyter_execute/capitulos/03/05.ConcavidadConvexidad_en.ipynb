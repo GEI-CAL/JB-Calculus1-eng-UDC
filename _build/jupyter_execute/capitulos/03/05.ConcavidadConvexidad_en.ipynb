{
 "cells": [
  {
   "cell_type": "markdown",
   "metadata": {},
   "source": [
    "# Convexity and concavity\n",
    "\n",
    "## Definitions\n",
    "\n",
    "Mathematically, the idea of ​​a convex function is simple: it is a function in which the secant lines are above the graph of the function.\n",
    "Said colloquially: it is a glass in which water would not spill.\n",
    "\n",
    "<img src=\"../../images/cap3-convexidad.png\" width=\"400\"/>\n",
    "\n",
    "If we remember that the line secant to $f$ through $a$ and $b$ has equation $r(x) =\\frac{f(b)-f(a)}{b-a}(x-a) + f(a) $, we obtain the following formal definition:\n",
    "\n",
    "````{prf:definition}  Convexidad\n",
    ":label: def_convexidad\n",
    ":nonumber: \n",
    "\n",
    "Se dice que $f$ es convexa en $[a,b]$ si\n",
    "            \n",
    "$$\n",
    "f(z) \\leq f(x) + \\frac{f(y)-f(x)}{y-x}(z-x) \\, , \\qquad \\forall x < z < y, \\quad x,y,z \\in [a,b].\n",
    "$$\n",
    "\n",
    "````\n",
    "\n",
    "Similarly, we will say that $f$ is concave if the graph lies below the secant line or, equivalently, if its inverse is a convex function.\n",
    "\n",
    "````{prf:definition}  Concavidad\n",
    ":label: def_concavidad\n",
    ":nonumber: \n",
    "\n",
    "Se dice que $f$ es cóncava en $[a,b]$ si $-f$ es convexa en ese intervalo.\n",
    "            \n",
    "````\n",
    "\n",
    "The latest definition linked to concavity/convexity is the following:\n",
    "\n",
    "````{prf:definition}  Punto de inflexión\n",
    ":label: def_punto_inflexion\n",
    ":nonumber: \n",
    "\n",
    "Se dice que $f$ tiene un punto de inflexión en $x_{0}$ si en ese punto la función pasa de cóncava a convexa o viceversa.\n",
    "\n",
    "````\n",
    "\n",
    "<img src=\"../../images/cap_deriv_puntos_inflexion.png\" width=\"400\"/>\n",
    "\n",
    "## Convexity and concavity for sufficiently differentiable functions\n",
    "\n",
    "And now a reflection, which will lead us to an important property: if a function is convex (look at the graph at the beginning of this section), its derivative, if it exists, will be negative at the beginning, then it will be worth $0$ at the relative minimum to pass to be positive then. That is, the derivative of a convex function is increasing. And, therefore, the derivative of this (that is, the second derivative of $f$, whenever it exists) will be positive. Of course, the opposite happens for a concave function.\n",
    "\n",
    "All this is summarized in the following\n",
    "\n",
    "````{prf:property}  \n",
    ":label: prop_concavidad_convexidad\n",
    ":nonumber: \n",
    "\n",
    "* Sea $f:[a,b] \\longrightarrow \\mathbb{R}$ continua en $[a,b]$ y\n",
    "derivable en $(a,b)$. Entonces $f$ es convexa en $[a,b]$ si y sólo \n",
    "si $f'$ es creciente en $(a,b)$. Esto equivale a que $f'' \\geq 0$, \n",
    "si $f$ tiene derivada segunda.\n",
    "\n",
    "* Análogamente, $f$ es cóncava en $[a,b]$ si y sólo si $f'$ es decreciente\n",
    "en $(a,b)$ (es decir, si y sólo si $f'' \\leq 0$, en caso de  existir derivada segunda).\n",
    "\n",
    "````\n",
    "\n",
    "We illustrate this property in the following figure:\n",
    "\n",
    "<img src=\"../../images/cap_deriv_prop_convexidad.png\" width=\"400\"/>\n",
    "\n",
    "## More information\n",
    "\n",
    "* On this web page you can see more explanations and some examples (both solved and proposed): https://www.funciones.xyz/concavidad-y-convexidad-de-una-funcion-curvatura/\n",
    "* In the wiki they start easy, but move towards more abstract concepts. Still, you can take a look at it: https://es.wikipedia.org/wiki/Funci%C3%B3n_convexa"
   ]
  }
 ],
 "metadata": {
  "jupytext": {
   "formats": "ipynb,md:myst"
  },
  "kernelspec": {
   "display_name": "Python 3.10.8 64-bit (microsoft store)",
   "language": "python",
   "name": "python3"
  },
  "language_info": {
   "codemirror_mode": {
    "name": "ipython",
    "version": 3
   },
   "file_extension": ".py",
   "mimetype": "text/x-python",
   "name": "python",
   "nbconvert_exporter": "python",
   "pygments_lexer": "ipython3",
   "version": "3.10.8"
  },
  "vscode": {
   "interpreter": {
    "hash": "f2c0f1c90395c109e1b87b1f4d6d2ea9e1b09c8587e65b0565fcfbe20df05a54"
   }
  }
 },
 "nbformat": 4,
 "nbformat_minor": 2
}